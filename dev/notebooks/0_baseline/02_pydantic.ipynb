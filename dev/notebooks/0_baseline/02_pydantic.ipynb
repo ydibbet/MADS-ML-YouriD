{
 "cells": [
  {
   "cell_type": "code",
   "execution_count": null,
   "metadata": {},
   "outputs": [],
   "source": [
    "from pathlib import Path\n",
    "from pydantic import BaseModel, root_validator\n",
    "from typing import Optional\n",
    "import ray\n",
    "from ray import tune\n"
   ]
  },
  {
   "attachments": {},
   "cell_type": "markdown",
   "metadata": {},
   "source": [
    "While creating larger projects, we will typically end up having a lot of parameters. While the fastest way might seem to just hardcode them somewhere, this is not a valid long-term strategy.\n",
    "\n",
    "Especially when doing experiments with machine learning, we will want to have everything in one place, and ideally we want to have checks in place.\n",
    "\n",
    "This documents explores how you can make more advanced pydantic settings, even for more complex parameters like ray search spaces.\n",
    "\n",
    "To start naively, we could just make a config like this"
   ]
  },
  {
   "cell_type": "code",
   "execution_count": null,
   "metadata": {},
   "outputs": [],
   "source": [
    "config = {\"input_size\": 3, \"output_size\": 20, \"data_dir\": Path(\".\")}\n"
   ]
  },
  {
   "cell_type": "code",
   "execution_count": null,
   "metadata": {},
   "outputs": [],
   "source": [
    "config[\"input_size\"]"
   ]
  },
  {
   "attachments": {},
   "cell_type": "markdown",
   "metadata": {},
   "source": [
    "While this will go a long way, there are some horros hidden deep inside python."
   ]
  },
  {
   "cell_type": "code",
   "execution_count": null,
   "metadata": {},
   "outputs": [],
   "source": [
    "from dataclasses import dataclass\n",
    "\n",
    "@dataclass\n",
    "class MyClass:\n",
    "    mutable_attr = []\n",
    "\n",
    "# Create two instances\n",
    "instance1 = MyClass()\n",
    "instance2 = MyClass()\n",
    "\n",
    "# Append to the list in instance1\n",
    "instance1.mutable_attr.append('Hello')\n",
    "\n",
    "print(instance1.mutable_attr)  # prints ['Hello']\n",
    "print(instance2.mutable_attr)  # also prints ['Hello']. Wait, what?"
   ]
  },
  {
   "attachments": {},
   "cell_type": "markdown",
   "metadata": {},
   "source": [
    "Every programmer should get nightmares from this, because this is absolutely not what you would expect.\n",
    "Luckily, pydantic is there to save the day.\n",
    "\n",
    "![img](python.PNG)"
   ]
  },
  {
   "cell_type": "code",
   "execution_count": null,
   "metadata": {},
   "outputs": [],
   "source": [
    "from pydantic import BaseModel\n",
    "from typing import List\n",
    "\n",
    "class TrainerSettings(BaseModel):\n",
    "    mutable_attr: List = []\n",
    "\n",
    "# Create two settings instances\n",
    "settings1 = TrainerSettings()\n",
    "settings2 = TrainerSettings()\n",
    "\n",
    "# Change 'factor' in settings1\n",
    "settings1.mutable_attr.append(\"Hello\")\n",
    "\n",
    "print(settings1.mutable_attr)  # prints [\"Hello\"]\n",
    "print(settings2.mutable_attr) # print []"
   ]
  },
  {
   "attachments": {},
   "cell_type": "markdown",
   "metadata": {},
   "source": [
    "\n",
    "But the protection against modifying features is just one advantage. We can get a config on steroids with pydantic without too much extra effort:"
   ]
  },
  {
   "cell_type": "code",
   "execution_count": null,
   "metadata": {},
   "outputs": [],
   "source": [
    "class SearchSpace(BaseModel):\n",
    "    input_size: int\n",
    "    output_size: int\n",
    "    tune_dir: Optional[Path]\n",
    "    data_dir: Path\n",
    "\n",
    "config = SearchSpace(input_size=3.0, output_size=20, tune_dir=None, data_dir=\".\")  # <- string goes in here\n",
    "config  # <- and is automatic cast to a Path here"
   ]
  },
  {
   "attachments": {},
   "cell_type": "markdown",
   "metadata": {},
   "source": [
    "Note how the `\".\"` data_dir becomes a `PosixPath`, automatically, even if we provide the argument as a string!!\n",
    "\n",
    "Note how `Optional` allows for leaving the argument out, and the value defaults to `None`."
   ]
  },
  {
   "attachments": {},
   "cell_type": "markdown",
   "metadata": {},
   "source": [
    "If possible, it will cast all elements, e.g. even `input_size=\"3\"` becomes an integer"
   ]
  },
  {
   "cell_type": "code",
   "execution_count": null,
   "metadata": {},
   "outputs": [],
   "source": [
    "config = SearchSpace(input_size=\"3\", output_size=20, tune_dir=None, data_dir=\".\")\n",
    "config.input_size\n"
   ]
  },
  {
   "cell_type": "code",
   "execution_count": null,
   "metadata": {},
   "outputs": [],
   "source": [
    "type(config.input_size) == int"
   ]
  },
  {
   "attachments": {},
   "cell_type": "markdown",
   "metadata": {},
   "source": [
    "And if you try to give `data_dir` something that can't be cast to a `Path`, you will get an error.\n",
    "The advantage is that you get your errors at the place where you make them, and not 10 steps later when running the trainloop..."
   ]
  },
  {
   "cell_type": "code",
   "execution_count": null,
   "metadata": {},
   "outputs": [],
   "source": [
    "try:\n",
    "    config = SearchSpace(input_size=\"3\", output_size=20, tune_dir=None, data_dir=3.4)\n",
    "except ValueError as e:\n",
    "    print(e)\n"
   ]
  },
  {
   "attachments": {},
   "cell_type": "markdown",
   "metadata": {},
   "source": [
    "Let's try to add the ray.tune ranges. We will need these later on when hypertuning. \n",
    "You dont have to understand this now, but what it does is it provides us a range of possible parameters, in this case a uniform distribution of numbers between 0.0 and 10.0.\n",
    "\n",
    "To find out what the type is, we simple call the `type()` method."
   ]
  },
  {
   "cell_type": "code",
   "execution_count": null,
   "metadata": {},
   "outputs": [],
   "source": [
    "type(1.0)"
   ]
  },
  {
   "cell_type": "code",
   "execution_count": null,
   "metadata": {},
   "outputs": [],
   "source": [
    "type(tune.uniform(0.0, 10.0))\n"
   ]
  },
  {
   "attachments": {},
   "cell_type": "markdown",
   "metadata": {},
   "source": [
    "This is a uniform distribution, that Ray will use to search for optimal parameters."
   ]
  },
  {
   "attachments": {},
   "cell_type": "markdown",
   "metadata": {},
   "source": [
    "But if we simply add that like this:\n",
    "```python\n",
    "class SearchSpace(BaseModel):\n",
    "    input_size: int\n",
    "    hidden_size: Union[int, SAMPLE_INT]\n",
    "    output_size: int = 20\n",
    "    tune_dir: Path = \".\"\n",
    "    data_dir: Path\n",
    "```\n",
    "\n",
    "pydantic will crash. Instead, do this"
   ]
  },
  {
   "attachments": {},
   "cell_type": "markdown",
   "metadata": {},
   "source": [
    "Pydantic complains that it does not know how to validate the type. A simple solution is to add `arbitrary_types_allowed`"
   ]
  },
  {
   "cell_type": "code",
   "execution_count": null,
   "metadata": {},
   "outputs": [],
   "source": [
    "from typing import Union, Optional, Dict\n",
    "SAMPLE_INT = ray.tune.search.sample.Integer\n",
    "\n",
    "class SearchSpace(BaseModel):\n",
    "    input_size: int\n",
    "    hidden_size: Union[int, SAMPLE_INT]\n",
    "    output_size: int = 20\n",
    "    tune_dir: Path = \".\"\n",
    "    data_dir: Path\n",
    "\n",
    "    class Config:\n",
    "        arbitrary_types_allowed = True\n",
    "\n",
    "\n",
    "config = SearchSpace(input_size=3, hidden_size=32, data_dir=\".\")\n",
    "config\n"
   ]
  },
  {
   "attachments": {},
   "cell_type": "markdown",
   "metadata": {},
   "source": [
    "Because of the `Union`, an integer will work too"
   ]
  },
  {
   "cell_type": "code",
   "execution_count": null,
   "metadata": {},
   "outputs": [],
   "source": [
    "config = SearchSpace(input_size=3, hidden_size=tune.randint(16, 128), data_dir=\".\")\n",
    "config\n"
   ]
  },
  {
   "attachments": {},
   "cell_type": "markdown",
   "metadata": {},
   "source": [
    "And a `tune.randint` will work.\n",
    "\n",
    "But a `tune.uniform` fails! Exactly what we need!"
   ]
  },
  {
   "cell_type": "code",
   "execution_count": null,
   "metadata": {},
   "outputs": [],
   "source": [
    "try:\n",
    "    config = SearchSpace(input_size=3, hidden_size=tune.uniform(0.0, 0.5), data_dir=\".\")\n",
    "except Exception as e:\n",
    "    print(e)\n"
   ]
  }
 ],
 "metadata": {
  "kernelspec": {
   "display_name": "Python 3.9.13 ('deep-learning-wM7qE7ca-py3.9')",
   "language": "python",
   "name": "python3"
  },
  "language_info": {
   "codemirror_mode": {
    "name": "ipython",
    "version": 3
   },
   "file_extension": ".py",
   "mimetype": "text/x-python",
   "name": "python",
   "nbconvert_exporter": "python",
   "pygments_lexer": "ipython3",
   "version": "3.11.5"
  },
  "vscode": {
   "interpreter": {
    "hash": "9384df97cb25cd0ffeadd8ca5fc8c3b92d252d40e81804b4c63c6d046c91939e"
   }
  }
 },
 "nbformat": 4,
 "nbformat_minor": 2
}
