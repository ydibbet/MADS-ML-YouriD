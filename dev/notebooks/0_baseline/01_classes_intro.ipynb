{
 "cells": [
  {
   "attachments": {},
   "cell_type": "markdown",
   "metadata": {},
   "source": [
    "# Classes and inheritance 101\n",
    "NOTE: this is a very basic introduction into classes, dundermethods and inheritance. If you want to understand the concept a bit better, this is a nice place to start. If you have experience with the concept of classes and would like to see it in action in a more complex environment, you will find more challenge in notebook `02_classes_and_functions.ipynb`\n",
    "\n",
    "## dataclass\n",
    "Python has a native `dataclass` since 3.7\n",
    "It is ideal to specify some data. Let's imagine we are starting a zoo:"
   ]
  },
  {
   "cell_type": "code",
   "execution_count": 2,
   "metadata": {},
   "outputs": [],
   "source": [
    "from dataclasses import dataclass\n",
    "\n",
    "@dataclass\n",
    "class Lion:\n",
    "    food : str"
   ]
  },
  {
   "cell_type": "markdown",
   "metadata": {},
   "source": [
    "We can now make an instance of the `Lion` class. Let's create a `Lion` named alex that eats `steak`"
   ]
  },
  {
   "cell_type": "code",
   "execution_count": 3,
   "metadata": {},
   "outputs": [],
   "source": [
    "alex = Lion(food=\"steak\")"
   ]
  },
  {
   "attachments": {},
   "cell_type": "markdown",
   "metadata": {},
   "source": [
    "`alex` is now an object. It is an instance of the class `Lion`. The class specifies the general idea, in our case: a `Lion` is an object that has a single feature, which is `food` and `food` is a string. Obviously, that is very simple and basic, but we are trying to keep things as simple as possible for now.\n",
    "\n",
    "In this specific case, we have `alex` and that is a `Lion` with a specific preference for food:"
   ]
  },
  {
   "cell_type": "code",
   "execution_count": 4,
   "metadata": {},
   "outputs": [
    {
     "data": {
      "text/plain": [
       "'steak'"
      ]
     },
     "execution_count": 4,
     "metadata": {},
     "output_type": "execute_result"
    }
   ],
   "source": [
    "alex.food"
   ]
  },
  {
   "attachments": {},
   "cell_type": "markdown",
   "metadata": {},
   "source": [
    "## the `__init__` method\n",
    "the `@dataclass` wrapper is there to make life easier. It's the same as this:"
   ]
  },
  {
   "cell_type": "code",
   "execution_count": 5,
   "metadata": {},
   "outputs": [],
   "source": [
    "class Lion:\n",
    "    def __init__(self, food: str) -> None:\n",
    "        self.food = food"
   ]
  },
  {
   "attachments": {},
   "cell_type": "markdown",
   "metadata": {},
   "source": [
    "But that is a lot more [boilerplate](https://en.wikipedia.org/wiki/Boilerplate_code) code...\n",
    "\n",
    "Now, we want to make our class more complex, such that we can also feed the `Lion`"
   ]
  },
  {
   "cell_type": "code",
   "execution_count": 6,
   "metadata": {},
   "outputs": [
    {
     "name": "stdout",
     "output_type": "stream",
     "text": [
      "The lion eats the steak\n"
     ]
    }
   ],
   "source": [
    "class Lion:\n",
    "    def __init__(self, food: str) -> None:\n",
    "        self.food = food\n",
    "    \n",
    "    def give_food(self):\n",
    "        print(f\"The lion eats the {self.food}\")\n",
    "\n",
    "leeuw = Lion(food=\"steak\")\n",
    "leeuw.give_food()"
   ]
  },
  {
   "cell_type": "markdown",
   "metadata": {},
   "source": [
    "And, as our zoo is expanding, we add another lion"
   ]
  },
  {
   "cell_type": "code",
   "execution_count": 7,
   "metadata": {},
   "outputs": [
    {
     "name": "stdout",
     "output_type": "stream",
     "text": [
      "The lion eats the ham\n"
     ]
    }
   ],
   "source": [
    "fred = Lion(food=\"ham\")\n",
    "fred.give_food()"
   ]
  },
  {
   "attachments": {},
   "cell_type": "markdown",
   "metadata": {},
   "source": [
    "As you can see, we have two different animals with their own preferences, while both are `Lion`"
   ]
  },
  {
   "cell_type": "code",
   "execution_count": 8,
   "metadata": {},
   "outputs": [
    {
     "data": {
      "text/plain": [
       "('steak', 'ham')"
      ]
     },
     "execution_count": 8,
     "metadata": {},
     "output_type": "execute_result"
    }
   ],
   "source": [
    "alex.food, fred.food"
   ]
  },
  {
   "attachments": {},
   "cell_type": "markdown",
   "metadata": {},
   "source": [
    "We go on expanding, and add an optimal time for feeding. Let's make it so that the optimal feeding time is generated at random at the moment the `Lion` is created. At the moment the `Lion` is created, the `__init__` method is always called. That is a one-time-event at the moment of initialization.\n",
    "\n",
    "Once it is created, the properties of `Lion` stay the same (unless we actively change them)"
   ]
  },
  {
   "cell_type": "code",
   "execution_count": 9,
   "metadata": {},
   "outputs": [],
   "source": [
    "import numpy as np\n",
    "class Lion:\n",
    "    def __init__(self, food: str) -> None:\n",
    "        self.food = food\n",
    "        self.time: int = np.random.randint(9, 17)\n",
    "    \n",
    "    def give_food(self):\n",
    "        print(f\"The lion eats the {self.food}\")\n",
    "    \n",
    "    def ideal_feeding_time(self) -> str:\n",
    "        return f\"{self.time}h\"\n",
    "\n",
    "alex = Lion(food=\"steak\")"
   ]
  },
  {
   "cell_type": "code",
   "execution_count": 10,
   "metadata": {},
   "outputs": [
    {
     "data": {
      "text/plain": [
       "'15h'"
      ]
     },
     "execution_count": 10,
     "metadata": {},
     "output_type": "execute_result"
    }
   ],
   "source": [
    "alex.ideal_feeding_time()"
   ]
  },
  {
   "attachments": {},
   "cell_type": "markdown",
   "metadata": {},
   "source": [
    "## Adding optional parameters\n",
    "Because we want to have the option to train the lion for a specific time of our own choosing, \n",
    "we add `time` as an `Optional` parameter with a `None` default. "
   ]
  },
  {
   "cell_type": "code",
   "execution_count": 11,
   "metadata": {},
   "outputs": [
    {
     "data": {
      "text/plain": [
       "'8h'"
      ]
     },
     "execution_count": 11,
     "metadata": {},
     "output_type": "execute_result"
    }
   ],
   "source": [
    "from typing import Optional\n",
    "class Lion:\n",
    "    def __init__(self, food: str, time: Optional[int] = None) -> None:\n",
    "        self.food = food\n",
    "        if time == None:\n",
    "            time = np.random.randint(9, 17)\n",
    "        self.time: int = time\n",
    "    \n",
    "    def give_food(self):\n",
    "        print(f\"The lion eats the {self.food}\")\n",
    "    \n",
    "    def ideal_feeding_time(self) -> str:\n",
    "        return f\"{self.time}h\"\n",
    "\n",
    "alex = Lion(food=\"ham\", time=8)\n",
    "alex.ideal_feeding_time()"
   ]
  },
  {
   "attachments": {},
   "cell_type": "markdown",
   "metadata": {},
   "source": [
    "## More dunder methods\n",
    "Let's add the dunder methods `__len__` and `__getitem__`, because `Lion` can now have multiple prefered foods.\n",
    "\n",
    "> In Python, dunder methods are methods that allow instances of a class to interact with the built-in functions and operators of the language. The word “dunder” comes from “double underscore”, because the names of dunder methods start and end with two underscores, for example `__str__` or `__add__`. Typically, dunder methods are not invoked directly by the programmer. [source](https://mathspp.com/blog/pydonts/dunder-methods)\n",
    "\n",
    "`__len__` returns the number of foods.\n",
    "`__getitem__` returns a food by using and index `idx`"
   ]
  },
  {
   "cell_type": "code",
   "execution_count": 15,
   "metadata": {},
   "outputs": [
    {
     "name": "stdout",
     "output_type": "stream",
     "text": [
      "The lion enjoys 2 items\n"
     ]
    },
    {
     "data": {
      "text/plain": [
       "('sushi', 2)"
      ]
     },
     "execution_count": 15,
     "metadata": {},
     "output_type": "execute_result"
    }
   ],
   "source": [
    "from typing import List\n",
    "class Lion:\n",
    "    def __init__(self, food: List[str], time: Optional[int] = None) -> None:\n",
    "        self.food = food\n",
    "        if time == None:\n",
    "            time = np.random.randint(9, 17)\n",
    "        self.time: int = time\n",
    "    \n",
    "    def give_food(self) -> None:\n",
    "        print(f\"The lion enjoys {len(self)} items\")\n",
    "    \n",
    "    def __getitem__(self, idx: int) -> str:\n",
    "        return self.food[idx]\n",
    "\n",
    "    def __len__(self) -> int:\n",
    "        return len(self.food)\n",
    "\n",
    "    def ideal_feeding_time(self) -> str:\n",
    "        return f\"{self.time}h\"\n",
    "\n",
    "alex = Lion([\"steak\", \"sushi\"], time=9)\n",
    "alex.give_food()\n",
    "alex[1], len(alex)"
   ]
  },
  {
   "attachments": {},
   "cell_type": "markdown",
   "metadata": {},
   "source": [
    "So, what is happening here? The `__get_item__` method is called whenever you do `object[index]`, so in our case, when we create a `Lion` object `alex`, when we do `alex[1]` whatever is between the brackets is sent as an argument to the `__get_item__` method. We have specified that the argument is passed on to `self.food`.\n",
    "\n",
    "The same thing is happening with `len`: when we call `len(object)`, under the hood the method `__len__` is called. We specified this for our `Lion` class at the return values of `len(self.food)`, but we could have defined it any way we like.\n"
   ]
  },
  {
   "attachments": {},
   "cell_type": "markdown",
   "metadata": {},
   "source": [
    "\n",
    "## Inheritance\n",
    "Let's say we want to add another class, `BabyLion`. The only thing we want to change is that you\n",
    "can pet a `BabyLion`, while a grown up `Lion` should not have that method.\n",
    "\n",
    "Instead of retyping everything (which we could, but is not smart as it makes things much harder to maintain in the long run), we can simply inherit a parent class like this:"
   ]
  },
  {
   "cell_type": "code",
   "execution_count": 13,
   "metadata": {},
   "outputs": [
    {
     "name": "stdout",
     "output_type": "stream",
     "text": [
      "The lion enjoys 1 items\n"
     ]
    },
    {
     "data": {
      "text/plain": [
       "11"
      ]
     },
     "execution_count": 13,
     "metadata": {},
     "output_type": "execute_result"
    }
   ],
   "source": [
    "class BabyLion(Lion):\n",
    "    def pet(self):\n",
    "        print(\"miauw\")\n",
    "simba = BabyLion(food = [\"biefstuk\"], time = 11)\n",
    "simba.give_food()\n",
    "simba.ideal_feeding_time()"
   ]
  },
  {
   "attachments": {},
   "cell_type": "markdown",
   "metadata": {},
   "source": [
    "As you can see, everything is still there! \n",
    "Our `BabyLion` has inherited all methods from lion: `__init__`, `give_food`, `__get_item__`, `__len__` and `ideal_feeding_time`.\n",
    "\n",
    "We just added a new method on top of that, `pet`:"
   ]
  },
  {
   "cell_type": "code",
   "execution_count": 14,
   "metadata": {},
   "outputs": [
    {
     "name": "stdout",
     "output_type": "stream",
     "text": [
      "miauw\n"
     ]
    }
   ],
   "source": [
    "simba.pet()"
   ]
  }
 ],
 "metadata": {
  "kernelspec": {
   "display_name": "Python 3.9.13 ('deep-learning-wM7qE7ca-py3.9')",
   "language": "python",
   "name": "python3"
  },
  "language_info": {
   "codemirror_mode": {
    "name": "ipython",
    "version": 3
   },
   "file_extension": ".py",
   "mimetype": "text/x-python",
   "name": "python",
   "nbconvert_exporter": "python",
   "pygments_lexer": "ipython3",
   "version": "3.8.13"
  },
  "orig_nbformat": 4,
  "vscode": {
   "interpreter": {
    "hash": "9384df97cb25cd0ffeadd8ca5fc8c3b92d252d40e81804b4c63c6d046c91939e"
   }
  }
 },
 "nbformat": 4,
 "nbformat_minor": 2
}
